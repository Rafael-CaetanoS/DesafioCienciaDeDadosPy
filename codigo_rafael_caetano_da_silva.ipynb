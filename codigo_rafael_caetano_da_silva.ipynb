{
 "cells": [
  {
   "cell_type": "markdown",
   "id": "b6b1ec3f",
   "metadata": {},
   "source": [
    "## Pedidos Informação"
   ]
  },
  {
   "cell_type": "code",
   "execution_count": 14,
   "id": "86c9a4f4",
   "metadata": {
    "scrolled": true
   },
   "outputs": [
    {
     "name": "stdout",
     "output_type": "stream",
     "text": [
      "Total de pedidos 266\n",
      "O tamanho do maior pedido é de: 2000\n",
      "\n",
      "O conteudo desse pedido é: \n",
      "Gostaria de solicitar, com base na Lei de Acesso à Informação, dados relacionados aos petroleiros que atuam no Norte do Rio de Janeiro, de acordo com os seguintes critérios.  Quantos profissionais de exploração de óleo e gás (offshore e onshore) que atuam no Norte Fluminense tiveram casos confirmados de Coronavírus? Qual o quantitativo de cada cidade onde são residentes?  Quantos profissionais de exploração de óleo e gás (offshore e onshore) que atuam no Norte Fluminense têm casos de Coronavírus em investigação? Qual o quantitativo de cada cidade onde são residentes?  Quantos profissionais do setor offshore que atuam na Bacia de Campos tiveram casos confirmados de Coronavírus? Qual o quantitativo de cada cidade onde são residentes?  Quantos profissionais do setor offshore que atuam no Norte Fluminense têm casos de Coronavírus em investigação? Qual o quantitativo de cada cidade onde são residentes?  Quais plataformas da Bacia de Campos foram ou serão desativadas e/ou hibernadas por conta da crise do Coronavírus? Qual o prazo para todas elas serem desativadas/hibernadas?   Do total de plataformas desativadas/hibernadas, qual foi a produção gerada em 2019? Desse total de produção, quanto de royalties e participações especiais foram gerados a partir das respectivas plataformas em 2019? Do total de royalties gerados a partir das respectivas plataformas, quanto foi transferido para Campos e Macaé em 2019?  Quantos profissionais atuam em cada plataforma que foram ou serão desativadas e/ou hibernadas por conta da crise do Coronavírus?  Quantos profissionais que atuam nas plataformas desativadas/hibernadas serão realocadas?  Quantos profissionais que atuam no setor offshore e onshore da Bacia de Campos foram afastados por serem de grupos de risco? Qual o quantitativo de cada cidade onde são residentes?   Solicito ainda que, conforme o  Art. 8o, § 3o da LAI 12.527/2011, as informações ora requisitadas sejam enviadas em formato Excel ou similar formato eletrônico de planilha. \n"
     ]
    }
   ],
   "source": [
    "import csv\n",
    "\n",
    "#Abrindo o arquivo csv\n",
    "with open(\"dados.csv\", \"r\") as arquivo: \n",
    "    arquivo_csv = csv.reader(arquivo, delimiter=\";\") \n",
    "\n",
    "#Variaveis    \n",
    "    maior_texto = 0\n",
    "    conteudo='a'\n",
    "    \n",
    "#Percorrendo cada linha do Arquivo e seu Index\n",
    "    for i,linha in enumerate(arquivo_csv):\n",
    "        for j in linha[2]:\n",
    "\n",
    "#A cada vez que passa no laço eu atribuou o numero do pedido \n",
    "            total_pedidos = i \n",
    "\n",
    "#pegando o tamanho do texto da coluna pedidos a cada vez que passa no laço      \n",
    "        texto_tamanho =len(linha[2]) \n",
    "\n",
    "#comparando os textos e salvando numa variavel para dps mostrar qual tamanho do maior texto e o conteudo\n",
    "        if (texto_tamanho > maior_texto and linha[2] != '' and i >0):\n",
    "                maior_texto = texto_tamanho\n",
    "                conteudo = linha[2]\n",
    "    \n",
    "    print(f\"Total de pedidos {total_pedidos}\")\n",
    "    print(f\"O tamanho do maior pedido é de: {maior_texto}\")\n",
    "    print(\"\")\n",
    "    print(f\"O conteudo desse pedido é: \\n{conteudo}\")"
   ]
  },
  {
   "cell_type": "markdown",
   "id": "4965c1dd",
   "metadata": {},
   "source": [
    "## Tempo de Resposta:"
   ]
  },
  {
   "cell_type": "code",
   "execution_count": 6,
   "id": "f8b5fa57",
   "metadata": {},
   "outputs": [
    {
     "name": "stdout",
     "output_type": "stream",
     "text": [
      "Maior tempo de resposta: 539\n",
      "Menor tempo de resposta: 22\n",
      "Media do tempo de resposta: 131.48496240601503\n",
      "Mediana do tempo de resposta é de: 103.0\n",
      "Moda do tempo de resposta é de: 74 e a quantidade de vezes que aparece é: 6\n"
     ]
    }
   ],
   "source": [
    "import csv\n",
    "with open(\"dados.csv\", \"r\") as arquivo:\n",
    "    arquivo_ler = csv.reader(arquivo, delimiter=\";\")\n",
    "\n",
    "#variaveis e lista/biblioteca de todos os tempos\n",
    "    maior = 0\n",
    "    menor = 10000\n",
    "    tempos=[]\n",
    "    total_tempo_resposta=0\n",
    "    tamanho_tabela=0\n",
    "    tempos_str =[]\n",
    "    contagem_moda = {}\n",
    "    \n",
    "#Percorrendo cada linha do Arquivo e seu Index\n",
    "    for i,linha in enumerate(arquivo_ler):\n",
    "            tempos_str.append(linha[1])\n",
    "            if linha[1].isnumeric():   # valida se o número é do tipo inteiro\n",
    "                linha[1] = int(linha[1])\n",
    "                total_tempo_resposta +=linha[1] #somando todos os tempos de resposta\n",
    "                tamanho_tabela =i # total linhas no arquivo\n",
    "                \n",
    "                tempos.append(linha[1]) # colocando todos os tempos em uma nova lista\n",
    "                tempos.sort(key=int) #colocando essa linsta em ordem crescente\n",
    "                \n",
    "                if(linha[1] > maior): # maior tempo de resposta\n",
    "                    maior = linha[1]\n",
    "\n",
    "                elif(linha[1] < menor): # menor tempo de resposta\n",
    "                    menor = linha[1]\n",
    "    \n",
    "    \n",
    "    if(len(tempos) % 2 == 0):\n",
    "        meio = int(len(tempos) /2)\n",
    "        mediana = (int(tempos[meio]) + int(tempos[meio +1]))/2\n",
    "    else:\n",
    "        meio = int(len(tempos) /2)\n",
    "        mediana = (int(tempos[meio]))\n",
    "        \n",
    "\n",
    "    for tempo in tempos_str:\n",
    "        if tempo in contagem_moda:\n",
    "            contagem_moda[tempo] += 1\n",
    "        else:\n",
    "            contagem_moda[tempo] = 1\n",
    "\n",
    "    ranking_tempos = sorted(contagem_moda.items(), key=lambda x: x[1], reverse=True) \n",
    "    \n",
    "    media = total_tempo_resposta / tamanho_tabela # media de tempo\n",
    "    print(f\"Maior tempo de resposta: {maior}\")\n",
    "    print(f\"Menor tempo de resposta: {menor}\")\n",
    "    print(f\"Media do tempo de resposta: {media}\")\n",
    "    print(f\"Mediana do tempo de resposta é de: {mediana}\")\n",
    "   \n",
    "    for numero, quantidade in ranking_tempos[1:2]:\n",
    "        #to começando da posição 1 pq na 0 ele ta contando os epaços em branco da tabela\n",
    "        print(f\"Moda do tempo de resposta é de: {numero} e a quantidade de vezes que aparece é: {quantidade}\")\n"
   ]
  },
  {
   "cell_type": "markdown",
   "id": "080dae7c",
   "metadata": {},
   "source": [
    "## Identidade de Gênero"
   ]
  },
  {
   "cell_type": "code",
   "execution_count": 13,
   "id": "7c2121d5",
   "metadata": {
    "scrolled": true
   },
   "outputs": [
    {
     "name": "stdout",
     "output_type": "stream",
     "text": [
      "Generos encontrados:\n",
      "Mulher Cisgênero\n",
      "Mulher transgênero\n",
      "Homem transgênero\n",
      "Homem Cisgênero\n",
      "Não binário\n",
      "\n",
      "Homem cisgenero 43.98%\n",
      "Mulher cisgenero 50.38%\n",
      "Homem transgenero 3.01%\n",
      "Mulher transgenero 1.50%\n",
      "Não binario 1.13%\n"
     ]
    }
   ],
   "source": [
    "#forma bem basica de se resolver esse problema\n",
    "import csv\n",
    "with open (\"dados.csv \", \"r\") as arquivo:\n",
    "    arquivo_csv = csv.reader(arquivo, delimiter=\";\")\n",
    "    identidade=[]\n",
    "    hc = 0\n",
    "    nb = 0\n",
    "    ht = 0\n",
    "    mc = 0\n",
    "    mt = 0\n",
    "\n",
    "#Percorrendo cada linha do Arquivo e seu Index\n",
    "    for i, linha in  enumerate(arquivo_csv):\n",
    "        if(linha[4] != '' and i >0):\n",
    "            identidade.append(linha[4])\n",
    "    lista = set(identidade) \n",
    "    \n",
    "    print(\"Generos encontrados:\")\n",
    "    for sexo in lista:\n",
    "        print(sexo)\n",
    "    \n",
    "    for item in identidade:\n",
    "        match item:\n",
    "            case 'Homem Cisgênero':\n",
    "                hc +=1\n",
    "            \n",
    "            case 'Não binário':\n",
    "                nb +=1\n",
    "                \n",
    "            case 'Homem transgênero':\n",
    "                ht +=1\n",
    "\n",
    "            case 'Mulher Cisgênero':\n",
    "                mc +=1\n",
    "            \n",
    "            case 'Mulher transgênero':\n",
    "                mt +=1\n",
    "    \n",
    "\n",
    "    porcentagem_hc =(hc / 266) * 100\n",
    "    print(f\"\\nHomem cisgenero {porcentagem_hc:_.2f}%\")\n",
    "    \n",
    "    porcentagem_mc =(mc / 266) * 100\n",
    "    print(f\"Mulher cisgenero {porcentagem_mc:_.2f}%\")\n",
    "    \n",
    "    porcentagem_ht =(ht / 266) * 100\n",
    "    print(f\"Homem transgenero {porcentagem_ht:_.2f}%\")\n",
    "    \n",
    "    porcentagem_mt =(mt / 266) * 100\n",
    "    print(f\"Mulher transgenero {porcentagem_mt:_.2f}%\")\n",
    "    \n",
    "    porcentagem_nb =(nb / 266) * 100\n",
    "    print(f\"Não binario {porcentagem_nb:_.2f}%\")"
   ]
  },
  {
   "cell_type": "code",
   "execution_count": 12,
   "id": "5f91c9ba",
   "metadata": {},
   "outputs": [
    {
     "name": "stdout",
     "output_type": "stream",
     "text": [
      "Sexo: Mulher Cisgênero : 50.38%\n",
      "Sexo: Homem Cisgênero : 43.98%\n",
      "Sexo: Homem transgênero : 3.01%\n",
      "Sexo: Mulher transgênero : 1.50%\n",
      "Sexo: Não binário : 1.13%\n"
     ]
    }
   ],
   "source": [
    "# Forma um pouco mais \"avançada\"\n",
    "import csv\n",
    "\n",
    "with open(\"dados.csv\", \"r\") as arquivo:\n",
    "    arquivo_csv = csv.reader(arquivo, delimiter=\";\")\n",
    "#listas e bibliotecas    \n",
    "    conteudo_genero=[]\n",
    "    contagem_genero = {}\n",
    "    \n",
    "#Percorrendo cada linha do Arquivo \n",
    "    for linha in arquivo_csv:\n",
    "        conteudo_genero.append(linha[4])\n",
    "  \n",
    "    for sexo in conteudo_genero:\n",
    "        if sexo in contagem_genero:\n",
    "            contagem_genero[sexo] += 1\n",
    "        else:\n",
    "            contagem_genero[sexo] = 1\n",
    "        \n",
    "    contagem_ordenada = sorted(contagem_genero.items(), key=lambda x: x[1], reverse=True)\n",
    "\n",
    "    for sexo, quantidade in contagem_ordenada[1:6]:\n",
    "        porcentagem= (quantidade / 266) * 100\n",
    "        print(f\"Sexo: {sexo} : {porcentagem:_.2f}%\")"
   ]
  },
  {
   "cell_type": "markdown",
   "id": "df9b186d",
   "metadata": {},
   "source": [
    "##  Ranking"
   ]
  },
  {
   "cell_type": "code",
   "execution_count": 11,
   "id": "1c707f1d",
   "metadata": {
    "scrolled": true
   },
   "outputs": [
    {
     "name": "stdout",
     "output_type": "stream",
     "text": [
      "Estados com mais pedidos:\n",
      "São Paulo (SP): 73 pedidos\n",
      "Minas Gerais (MG): 51 pedidos\n",
      "Pernambuco (PE): 41 pedidos\n",
      "Paraíba (PB): 26 pedidos\n",
      "Espírito Santo (ES): 14 pedidos\n",
      "\n",
      "Cidadões com mais pedidos:\n",
      "Cidadão 18: 13 pedidos\n",
      "Cidadão 19: 11 pedidos\n",
      "Cidadão 1: 10 pedidos\n"
     ]
    }
   ],
   "source": [
    "import csv\n",
    "\n",
    "with open(\"dados.csv\", \"r\") as arquivo:\n",
    "    arquivo_csv = csv.reader(arquivo, delimiter=\";\")\n",
    "#listas e bibliotecas    \n",
    "    conteudo_estado=[]\n",
    "    conteudo_cidadoes=[]\n",
    "    contagem_estado = {}\n",
    "    contagem_cidadoes = {}\n",
    "    for linha in arquivo_csv:\n",
    "        conteudo_estado.append(linha[6])\n",
    "        conteudo_cidadoes.append(linha[0])\n",
    "  \n",
    "    \n",
    "# Diferente do desafio 3, que eu vi que eram poucos os generos e criei uma variavel para cada genero, nesse eu fiz diferente,pois\n",
    "#tinham muitos estados e cidadões diferentes, então preferi colocar eles dentro de uma lista, dps dentro de uma bibilioteca\n",
    "# e fui somando cada fez que o loop passava\n",
    "    for estado in conteudo_estado:\n",
    "        if estado in contagem_estado:\n",
    "            contagem_estado[estado] += 1\n",
    "        else:\n",
    "            contagem_estado[estado] = 1\n",
    "    \n",
    "    for cidadao in conteudo_cidadoes:\n",
    "        if cidadao in contagem_cidadoes:\n",
    "            contagem_cidadoes[cidadao] += 1\n",
    "        else:\n",
    "            contagem_cidadoes[cidadao] = 1\n",
    "    \n",
    "     \n",
    "#Colocando em ordem decrescente\n",
    "    ranking_estados = sorted(contagem_estado.items(), key=lambda x: x[1], reverse=True)\n",
    "    ranking_cidadoes = sorted(contagem_cidadoes.items(), key=lambda x: x[1], reverse=True)\n",
    "\n",
    "# Imprimir os resultados\n",
    "    print(\"Estados com mais pedidos:\")\n",
    "    for estado, quantidade in ranking_estados[1:6]:\n",
    "        print(f'{estado}: {quantidade} pedidos')\n",
    "    \n",
    "    print(\"\\nCidadões com mais pedidos:\")\n",
    "    for cidadao, quantidade in ranking_cidadoes[1:4]:\n",
    "        print(f'{cidadao}: {quantidade} pedidos')"
   ]
  },
  {
   "cell_type": "markdown",
   "id": "157b4df3",
   "metadata": {},
   "source": [
    "## Correlação: "
   ]
  },
  {
   "cell_type": "markdown",
   "id": "7f7473d3",
   "metadata": {},
   "source": [
    "5.1 Há alguma correlação entre o tempo de resposta e alguma outra coluna? \n",
    "    Sim, a correlação esta entre a coluna pedido e tempo de resposta\n",
    "\n",
    "5.2 Caso exista, quais seriam as entradas para um modelo preditivo para o tempo de resposta? \n",
    "    As entradas seriam:Nome cidadão, pedido, identidade de genero, cor e estado"
   ]
  },
  {
   "cell_type": "markdown",
   "id": "56953be4",
   "metadata": {},
   "source": [
    "## Questão Extra (Desafio): "
   ]
  },
  {
   "cell_type": "code",
   "execution_count": 10,
   "id": "bd0e510b",
   "metadata": {
    "scrolled": true
   },
   "outputs": [
    {
     "name": "stdout",
     "output_type": "stream",
     "text": [
      "Esse: 2\n",
      "é: 2\n",
      "um: 1\n",
      "pedido: 2\n",
      "de: 2\n",
      "acesso: 1\n",
      "à: 1\n",
      "informação.: 1\n",
      "tipo: 1\n",
      "uma: 1\n",
      "ferramenta: 1\n",
      "essencial: 1\n",
      "para: 1\n",
      "o: 1\n",
      "exercício: 1\n",
      "da: 1\n",
      "democracia.: 1\n"
     ]
    }
   ],
   "source": [
    "texto = \"Esse é um pedido de acesso à informação. Esse tipo de pedido é uma ferramenta essencial para o exercício da democracia.\"\n",
    "\n",
    "\n",
    "palavras = texto.split()\n",
    "contagem_palavras={}\n",
    "\n",
    "for palavra in palavras:\n",
    "    if palavra in contagem_palavras:\n",
    "        contagem_palavras[palavra] += 1\n",
    "    else:\n",
    "        contagem_palavras[palavra] = 1\n",
    "\n",
    "ranking_palavras =contagem_palavras.items()\n",
    "\n",
    "for palavra, quantidade in ranking_palavras:\n",
    "    print(f'{palavra}: {quantidade}')"
   ]
  },
  {
   "cell_type": "code",
   "execution_count": null,
   "id": "5afcbd6e",
   "metadata": {},
   "outputs": [],
   "source": []
  }
 ],
 "metadata": {
  "kernelspec": {
   "display_name": "Python 3 (ipykernel)",
   "language": "python",
   "name": "python3"
  },
  "language_info": {
   "codemirror_mode": {
    "name": "ipython",
    "version": 3
   },
   "file_extension": ".py",
   "mimetype": "text/x-python",
   "name": "python",
   "nbconvert_exporter": "python",
   "pygments_lexer": "ipython3",
   "version": "3.11.4"
  }
 },
 "nbformat": 4,
 "nbformat_minor": 5
}
